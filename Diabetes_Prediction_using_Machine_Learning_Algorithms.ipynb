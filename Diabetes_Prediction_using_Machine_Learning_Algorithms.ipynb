{
  "cells": [
    {
      "cell_type": "markdown",
      "metadata": {
        "id": "mRPDIp8TnxJ3"
      },
      "source": [
        "##  Project Of Data Warehousing And Data Minning"
      ]
    },
    {
      "cell_type": "markdown",
      "metadata": {
        "id": "YJGr1tTCnxJ8"
      },
      "source": [
        "## Project Title:\n",
        "\n",
        "\n",
        "Diabetes Prediction using Machine Learning"
      ]
    },
    {
      "cell_type": "code",
      "source": [
        "from google.colab import drive\n",
        "drive.mount('/content/drive')"
      ],
      "metadata": {
        "colab": {
          "base_uri": "https://localhost:8080/"
        },
        "id": "k7qjNq2oo53P",
        "outputId": "a10005e9-2d97-44fe-8e57-f81b515f40e3"
      },
      "execution_count": 1,
      "outputs": [
        {
          "output_type": "stream",
          "name": "stdout",
          "text": [
            "Mounted at /content/drive\n"
          ]
        }
      ]
    },
    {
      "cell_type": "markdown",
      "metadata": {
        "id": "-P1NjRFdnxJ_"
      },
      "source": [
        "## Description of Attributes of The Datasets\n",
        "The following definition of the features.\n",
        "\n",
        "| Feature  | Description | |\n",
        "|--------------|-------------|--------|\n",
        "| Preg     | number of preg(Female)         |\n",
        "| glucose | Plasma glucose concentration a 2 hours in an oral glucose tolerance test         |\n",
        "| Blood Pressure | Diastolic blood pressure (mm Hg) |\n",
        "| Skin thickness | Triceps skin fold thickness (mm) |\n",
        "|insulin | 2-Hour serum insulin (mu U/ml) |\n",
        "| bmi |  Body mass index (weight in kg/(height in m)^2) |\n",
        "| diabetes Predigree function |  Diabetes pedigree function |\n",
        "| Age (years) | Age (years)|\n",
        "| Outcome(diabetes) | Class variable (1=True, 0=False) |\n"
      ]
    },
    {
      "cell_type": "markdown",
      "metadata": {
        "id": "im2whLTInxKA"
      },
      "source": [
        "## Algortihms Used\n",
        "Logistic Regression\n",
        "\n",
        "Support Vector Machine\n",
        "\n",
        "KNN\n",
        "\n",
        "Random Forest Classifier\n",
        "\n",
        "Naivye Bayes\n"
      ]
    },
    {
      "cell_type": "markdown",
      "metadata": {
        "id": "TKg-SceinxKB"
      },
      "source": [
        "## Model Evaluation Methods Used\n",
        "Accuracy Score\n",
        "\n",
        "ROC AUC Curve\n",
        "\n",
        "Cross Validation\n",
        "\n",
        "Confusion Matrix"
      ]
    },
    {
      "cell_type": "markdown",
      "metadata": {
        "id": "XbLZ3IPOnxKC"
      },
      "source": [
        "## Libraries\n",
        "\n",
        "Pandas\n",
        "\n",
        "Matplotlib\n",
        "\n",
        "Seaborn\n",
        "\n",
        "Numpy"
      ]
    },
    {
      "cell_type": "code",
      "execution_count": null,
      "metadata": {
        "id": "K-TiPwPUnxKC"
      },
      "outputs": [],
      "source": [
        "import pandas as pd\n",
        "import numpy as np                #array processing\n",
        "import seaborn as sns\n",
        "import matplotlib.pyplot as plt\n",
        "%matplotlib inline"
      ]
    },
    {
      "cell_type": "markdown",
      "metadata": {
        "id": "gKkWtMKMnxKD"
      },
      "source": [
        "# Dataset\n",
        "The dataset i collected from the National Institute of Diabetes and Digestive and Kidney Diseases."
      ]
    },
    {
      "cell_type": "code",
      "execution_count": null,
      "metadata": {
        "id": "zj09cAmKnxKE",
        "outputId": "31e80a0c-db11-414f-e36f-7f2c8e3e69b1"
      },
      "outputs": [
        {
          "data": {
            "text/html": [
              "<div>\n",
              "<style scoped>\n",
              "    .dataframe tbody tr th:only-of-type {\n",
              "        vertical-align: middle;\n",
              "    }\n",
              "\n",
              "    .dataframe tbody tr th {\n",
              "        vertical-align: top;\n",
              "    }\n",
              "\n",
              "    .dataframe thead th {\n",
              "        text-align: right;\n",
              "    }\n",
              "</style>\n",
              "<table border=\"1\" class=\"dataframe\">\n",
              "  <thead>\n",
              "    <tr style=\"text-align: right;\">\n",
              "      <th></th>\n",
              "      <th>Preg</th>\n",
              "      <th>Glucose</th>\n",
              "      <th>BloodPressure</th>\n",
              "      <th>SkinThickness</th>\n",
              "      <th>Insulin</th>\n",
              "      <th>BMI</th>\n",
              "      <th>DiabetesPedigreeFunction</th>\n",
              "      <th>Age</th>\n",
              "      <th>Outcome</th>\n",
              "    </tr>\n",
              "  </thead>\n",
              "  <tbody>\n",
              "    <tr>\n",
              "      <th>0</th>\n",
              "      <td>6</td>\n",
              "      <td>148</td>\n",
              "      <td>72</td>\n",
              "      <td>35</td>\n",
              "      <td>0</td>\n",
              "      <td>33.6</td>\n",
              "      <td>0.627</td>\n",
              "      <td>50</td>\n",
              "      <td>1</td>\n",
              "    </tr>\n",
              "    <tr>\n",
              "      <th>1</th>\n",
              "      <td>1</td>\n",
              "      <td>85</td>\n",
              "      <td>66</td>\n",
              "      <td>29</td>\n",
              "      <td>0</td>\n",
              "      <td>26.6</td>\n",
              "      <td>0.351</td>\n",
              "      <td>31</td>\n",
              "      <td>0</td>\n",
              "    </tr>\n",
              "    <tr>\n",
              "      <th>2</th>\n",
              "      <td>8</td>\n",
              "      <td>183</td>\n",
              "      <td>64</td>\n",
              "      <td>0</td>\n",
              "      <td>0</td>\n",
              "      <td>23.3</td>\n",
              "      <td>0.672</td>\n",
              "      <td>32</td>\n",
              "      <td>1</td>\n",
              "    </tr>\n",
              "    <tr>\n",
              "      <th>3</th>\n",
              "      <td>1</td>\n",
              "      <td>89</td>\n",
              "      <td>66</td>\n",
              "      <td>23</td>\n",
              "      <td>94</td>\n",
              "      <td>28.1</td>\n",
              "      <td>0.167</td>\n",
              "      <td>21</td>\n",
              "      <td>0</td>\n",
              "    </tr>\n",
              "    <tr>\n",
              "      <th>4</th>\n",
              "      <td>0</td>\n",
              "      <td>137</td>\n",
              "      <td>40</td>\n",
              "      <td>35</td>\n",
              "      <td>168</td>\n",
              "      <td>43.1</td>\n",
              "      <td>2.288</td>\n",
              "      <td>33</td>\n",
              "      <td>1</td>\n",
              "    </tr>\n",
              "  </tbody>\n",
              "</table>\n",
              "</div>"
            ],
            "text/plain": [
              "   Preg  Glucose  BloodPressure  SkinThickness  Insulin   BMI  \\\n",
              "0     6      148             72             35        0  33.6   \n",
              "1     1       85             66             29        0  26.6   \n",
              "2     8      183             64              0        0  23.3   \n",
              "3     1       89             66             23       94  28.1   \n",
              "4     0      137             40             35      168  43.1   \n",
              "\n",
              "   DiabetesPedigreeFunction  Age  Outcome  \n",
              "0                     0.627   50        1  \n",
              "1                     0.351   31        0  \n",
              "2                     0.672   32        1  \n",
              "3                     0.167   21        0  \n",
              "4                     2.288   33        1  "
            ]
          },
          "execution_count": 114,
          "metadata": {},
          "output_type": "execute_result"
        }
      ],
      "source": [
        "df=pd.read_csv('diabetes.csv')\n",
        "df.head()"
      ]
    },
    {
      "cell_type": "markdown",
      "metadata": {
        "id": "t8zXw_UinxKF"
      },
      "source": [
        "Reference:https://github.com/topics/diabetes-prediction"
      ]
    },
    {
      "cell_type": "code",
      "execution_count": null,
      "metadata": {
        "id": "Cqe0x0FdnxKG",
        "outputId": "cf7a2418-aec9-4ff2-e464-2bd09296ebfd"
      },
      "outputs": [
        {
          "data": {
            "text/html": [
              "<div>\n",
              "<style scoped>\n",
              "    .dataframe tbody tr th:only-of-type {\n",
              "        vertical-align: middle;\n",
              "    }\n",
              "\n",
              "    .dataframe tbody tr th {\n",
              "        vertical-align: top;\n",
              "    }\n",
              "\n",
              "    .dataframe thead th {\n",
              "        text-align: right;\n",
              "    }\n",
              "</style>\n",
              "<table border=\"1\" class=\"dataframe\">\n",
              "  <thead>\n",
              "    <tr style=\"text-align: right;\">\n",
              "      <th></th>\n",
              "      <th>Preg</th>\n",
              "      <th>Glucose</th>\n",
              "      <th>BloodPressure</th>\n",
              "      <th>SkinThickness</th>\n",
              "      <th>Insulin</th>\n",
              "      <th>BMI</th>\n",
              "      <th>DiabetesPedigreeFunction</th>\n",
              "      <th>Age</th>\n",
              "      <th>Outcome</th>\n",
              "    </tr>\n",
              "  </thead>\n",
              "  <tbody>\n",
              "    <tr>\n",
              "      <th>count</th>\n",
              "      <td>768.000000</td>\n",
              "      <td>768.000000</td>\n",
              "      <td>768.000000</td>\n",
              "      <td>768.000000</td>\n",
              "      <td>768.000000</td>\n",
              "      <td>768.000000</td>\n",
              "      <td>768.000000</td>\n",
              "      <td>768.000000</td>\n",
              "      <td>768.000000</td>\n",
              "    </tr>\n",
              "    <tr>\n",
              "      <th>mean</th>\n",
              "      <td>3.845052</td>\n",
              "      <td>120.894531</td>\n",
              "      <td>69.105469</td>\n",
              "      <td>20.536458</td>\n",
              "      <td>79.799479</td>\n",
              "      <td>31.992578</td>\n",
              "      <td>0.471876</td>\n",
              "      <td>33.240885</td>\n",
              "      <td>0.348958</td>\n",
              "    </tr>\n",
              "    <tr>\n",
              "      <th>std</th>\n",
              "      <td>3.369578</td>\n",
              "      <td>31.972618</td>\n",
              "      <td>19.355807</td>\n",
              "      <td>15.952218</td>\n",
              "      <td>115.244002</td>\n",
              "      <td>7.884160</td>\n",
              "      <td>0.331329</td>\n",
              "      <td>11.760232</td>\n",
              "      <td>0.476951</td>\n",
              "    </tr>\n",
              "    <tr>\n",
              "      <th>min</th>\n",
              "      <td>0.000000</td>\n",
              "      <td>0.000000</td>\n",
              "      <td>0.000000</td>\n",
              "      <td>0.000000</td>\n",
              "      <td>0.000000</td>\n",
              "      <td>0.000000</td>\n",
              "      <td>0.078000</td>\n",
              "      <td>21.000000</td>\n",
              "      <td>0.000000</td>\n",
              "    </tr>\n",
              "    <tr>\n",
              "      <th>25%</th>\n",
              "      <td>1.000000</td>\n",
              "      <td>99.000000</td>\n",
              "      <td>62.000000</td>\n",
              "      <td>0.000000</td>\n",
              "      <td>0.000000</td>\n",
              "      <td>27.300000</td>\n",
              "      <td>0.243750</td>\n",
              "      <td>24.000000</td>\n",
              "      <td>0.000000</td>\n",
              "    </tr>\n",
              "    <tr>\n",
              "      <th>50%</th>\n",
              "      <td>3.000000</td>\n",
              "      <td>117.000000</td>\n",
              "      <td>72.000000</td>\n",
              "      <td>23.000000</td>\n",
              "      <td>30.500000</td>\n",
              "      <td>32.000000</td>\n",
              "      <td>0.372500</td>\n",
              "      <td>29.000000</td>\n",
              "      <td>0.000000</td>\n",
              "    </tr>\n",
              "    <tr>\n",
              "      <th>75%</th>\n",
              "      <td>6.000000</td>\n",
              "      <td>140.250000</td>\n",
              "      <td>80.000000</td>\n",
              "      <td>32.000000</td>\n",
              "      <td>127.250000</td>\n",
              "      <td>36.600000</td>\n",
              "      <td>0.626250</td>\n",
              "      <td>41.000000</td>\n",
              "      <td>1.000000</td>\n",
              "    </tr>\n",
              "    <tr>\n",
              "      <th>max</th>\n",
              "      <td>17.000000</td>\n",
              "      <td>199.000000</td>\n",
              "      <td>122.000000</td>\n",
              "      <td>99.000000</td>\n",
              "      <td>846.000000</td>\n",
              "      <td>67.100000</td>\n",
              "      <td>2.420000</td>\n",
              "      <td>81.000000</td>\n",
              "      <td>1.000000</td>\n",
              "    </tr>\n",
              "  </tbody>\n",
              "</table>\n",
              "</div>"
            ],
            "text/plain": [
              "             Preg     Glucose  BloodPressure  SkinThickness     Insulin  \\\n",
              "count  768.000000  768.000000     768.000000     768.000000  768.000000   \n",
              "mean     3.845052  120.894531      69.105469      20.536458   79.799479   \n",
              "std      3.369578   31.972618      19.355807      15.952218  115.244002   \n",
              "min      0.000000    0.000000       0.000000       0.000000    0.000000   \n",
              "25%      1.000000   99.000000      62.000000       0.000000    0.000000   \n",
              "50%      3.000000  117.000000      72.000000      23.000000   30.500000   \n",
              "75%      6.000000  140.250000      80.000000      32.000000  127.250000   \n",
              "max     17.000000  199.000000     122.000000      99.000000  846.000000   \n",
              "\n",
              "              BMI  DiabetesPedigreeFunction         Age     Outcome  \n",
              "count  768.000000                768.000000  768.000000  768.000000  \n",
              "mean    31.992578                  0.471876   33.240885    0.348958  \n",
              "std      7.884160                  0.331329   11.760232    0.476951  \n",
              "min      0.000000                  0.078000   21.000000    0.000000  \n",
              "25%     27.300000                  0.243750   24.000000    0.000000  \n",
              "50%     32.000000                  0.372500   29.000000    0.000000  \n",
              "75%     36.600000                  0.626250   41.000000    1.000000  \n",
              "max     67.100000                  2.420000   81.000000    1.000000  "
            ]
          },
          "execution_count": 115,
          "metadata": {},
          "output_type": "execute_result"
        }
      ],
      "source": [
        "#lets describe the data\n",
        "df.describe()"
      ]
    },
    {
      "cell_type": "code",
      "execution_count": null,
      "metadata": {
        "id": "eqnFpvB0nxKG",
        "outputId": "3af8a6cc-0aca-4d53-8fd2-3ad5b3c324f8"
      },
      "outputs": [
        {
          "name": "stdout",
          "output_type": "stream",
          "text": [
            "<class 'pandas.core.frame.DataFrame'>\n",
            "RangeIndex: 768 entries, 0 to 767\n",
            "Data columns (total 9 columns):\n",
            "Preg                        768 non-null int64\n",
            "Glucose                     768 non-null int64\n",
            "BloodPressure               768 non-null int64\n",
            "SkinThickness               768 non-null int64\n",
            "Insulin                     768 non-null int64\n",
            "BMI                         768 non-null float64\n",
            "DiabetesPedigreeFunction    768 non-null float64\n",
            "Age                         768 non-null int64\n",
            "Outcome                     768 non-null int64\n",
            "dtypes: float64(2), int64(7)\n",
            "memory usage: 54.1 KB\n"
          ]
        }
      ],
      "source": [
        "#infromation of dataset\n",
        "df.info()"
      ]
    },
    {
      "cell_type": "code",
      "execution_count": null,
      "metadata": {
        "id": "jrkqUe1jnxKH",
        "outputId": "76d950ba-a769-41ee-a281-6f85587348d1"
      },
      "outputs": [
        {
          "data": {
            "text/plain": [
              "False"
            ]
          },
          "execution_count": 117,
          "metadata": {},
          "output_type": "execute_result"
        }
      ],
      "source": [
        "#any null values\n",
        "#not neccessary in above information we can see\n",
        "df.isnull().values.any()"
      ]
    },
    {
      "cell_type": "code",
      "execution_count": null,
      "metadata": {
        "id": "IDd0wjuPnxKI",
        "outputId": "238ea266-319b-45d6-a35b-062a916ad48b"
      },
      "outputs": [
        {
          "data": {
            "image/png": "[encoded data removed]",
            "text/plain": [
              "<Figure size 720x720 with 9 Axes>"
            ]
          },
          "metadata": {
            "needs_background": "light"
          },
          "output_type": "display_data"
        }
      ],
      "source": [
        "#histogram\n",
        "df.hist(bins=10,figsize=(10,10))\n",
        "plt.show()"
      ]
    },
    {
      "cell_type": "code",
      "execution_count": null,
      "metadata": {
        "id": "uoDZXGAEnxKI",
        "outputId": "64c961fe-60af-4142-94d2-01e7ba6ef825"
      },
      "outputs": [
        {
          "data": {
            "text/plain": [
              "<matplotlib.axes._subplots.AxesSubplot at 0x1a04c987390>"
            ]
          },
          "execution_count": 119,
          "metadata": {},
          "output_type": "execute_result"
        },
        {
          "data": {
            "image/png": "[encoded data removed]",
            "text/plain": [
              "<Figure size 432x288 with 2 Axes>"
            ]
          },
          "metadata": {
            "needs_background": "light"
          },
          "output_type": "display_data"
        }
      ],
      "source": [
        "#correlation\n",
        "\n",
        "sns.heatmap(df.corr())\n",
        "# we can see skin thickness,insulin,pregnencies and age are full independent to each other\n",
        "#age and pregencies has negative correlation"
      ]
    },
    {
      "cell_type": "markdown",
      "metadata": {
        "id": "qw2OVjAOnxKJ"
      },
      "source": [
        "# Outcome(Case)\n",
        "There are total 768 entries.\n",
        "\n",
        "The patients have diabetes 268 in numbers and this is represented by 1.\n",
        "\n",
        "The patients have no diabetes 500 in numbers and this is represented by 0."
      ]
    },
    {
      "cell_type": "code",
      "execution_count": null,
      "metadata": {
        "id": "ArISZ1-bnxKK",
        "outputId": "4b3c7c8c-5476-44e8-e3dc-21196fbb4f9a"
      },
      "outputs": [
        {
          "data": {
            "text/plain": [
              "0    500\n",
              "1    268\n",
              "Name: Outcome, dtype: int64"
            ]
          },
          "execution_count": 120,
          "metadata": {},
          "output_type": "execute_result"
        }
      ],
      "source": [
        "df.Outcome.value_counts()"
      ]
    },
    {
      "cell_type": "code",
      "execution_count": null,
      "metadata": {
        "id": "S7wLeUpcnxKK",
        "outputId": "5229fd15-1022-4f8c-c33c-0d6053d33a70"
      },
      "outputs": [
        {
          "data": {
            "text/plain": [
              "<matplotlib.axes._subplots.AxesSubplot at 0x1a04e307128>"
            ]
          },
          "execution_count": 121,
          "metadata": {},
          "output_type": "execute_result"
        },
        {
          "data": {
            "image/png": "[encoded data removed]",
            "text/plain": [
              "<Figure size 432x288 with 1 Axes>"
            ]
          },
          "metadata": {
            "needs_background": "light"
          },
          "output_type": "display_data"
        }
      ],
      "source": [
        "#lets count total outcome in each target 0 1\n",
        "#0 means no diabeted\n",
        "#1 means patient with diabtes\n",
        "sns.countplot(y=df['Outcome'],palette='Set1')"
      ]
    },
    {
      "cell_type": "code",
      "execution_count": null,
      "metadata": {
        "id": "9z8bR-sQnxKM"
      },
      "outputs": [],
      "source": [
        "#sns.set(style=\"ticks\")\n",
        "#sns.pairplot(df, hue=\"Outcome\")"
      ]
    },
    {
      "cell_type": "code",
      "execution_count": null,
      "metadata": {
        "id": "lEq1JF70nxKM",
        "outputId": "10ce6bda-0d60-4912-a168-9f54366ef4f3"
      },
      "outputs": [
        {
          "data": {
            "text/plain": [
              "<matplotlib.axes._subplots.AxesSubplot at 0x1a04e29deb8>"
            ]
          },
          "execution_count": 123,
          "metadata": {},
          "output_type": "execute_result"
        },
        {
          "data": {
            "image/png": "[encoded data removed]",
            "text/plain": [
              "<Figure size 1080x432 with 1 Axes>"
            ]
          },
          "metadata": {},
          "output_type": "display_data"
        }
      ],
      "source": [
        "#box plot for outlier visualization\n",
        "sns.set(style=\"whitegrid\")\n",
        "df.boxplot(figsize=(15,6))"
      ]
    },
    {
      "cell_type": "code",
      "execution_count": null,
      "metadata": {
        "id": "jnRoPM0KnxKQ",
        "outputId": "913aa554-74ae-4521-b036-f2b66abd1b63"
      },
      "outputs": [
        {
          "data": {
            "image/png": "[encoded data removed]",
            "text/plain": [
              "<Figure size 288x144 with 1 Axes>"
            ]
          },
          "metadata": {},
          "output_type": "display_data"
        },
        {
          "data": {
            "image/png": "[encoded data removed]",
            "text/plain": [
              "<Figure size 288x144 with 1 Axes>"
            ]
          },
          "metadata": {},
          "output_type": "display_data"
        },
        {
          "data": {
            "image/png": "[encoded data removed]",
            "text/plain": [
              "<Figure size 288x144 with 1 Axes>"
            ]
          },
          "metadata": {},
          "output_type": "display_data"
        }
      ],
      "source": [
        "#box plot\n",
        "sns.set(style=\"whitegrid\")\n",
        "\n",
        "sns.set(rc={'figure.figsize':(4,2)})\n",
        "sns.boxplot(x=df['Insulin'])\n",
        "plt.show()\n",
        "sns.boxplot(x=df['BloodPressure'])\n",
        "plt.show()\n",
        "sns.boxplot(x=df['DiabetesPedigreeFunction'])\n",
        "plt.show()"
      ]
    },
    {
      "cell_type": "code",
      "execution_count": null,
      "metadata": {
        "id": "qr56C3OxnxKQ"
      },
      "outputs": [],
      "source": [
        "df1 = df.iloc[:,0:8]\n",
        "Outcome = df.iloc[:,8]\n",
        "X,Y = df1,Outcome"
      ]
    },
    {
      "cell_type": "code",
      "execution_count": null,
      "metadata": {
        "id": "JmA2LYeCnxKQ"
      },
      "outputs": [],
      "source": [
        "#Splitting train test data\n",
        "from sklearn.model_selection import train_test_split\n",
        "train_X,test_X,train_y,test_y=train_test_split(X,y,test_size=0.2)"
      ]
    },
    {
      "cell_type": "code",
      "execution_count": null,
      "metadata": {
        "id": "bap088tmnxKR",
        "outputId": "e1b165b8-c0a0-47aa-b38b-7f5d20003440"
      },
      "outputs": [
        {
          "data": {
            "text/plain": [
              "((614, 8), (154, 8), (614,), (154,))"
            ]
          },
          "execution_count": 127,
          "metadata": {},
          "output_type": "execute_result"
        }
      ],
      "source": [
        "train_X.shape,test_X.shape,train_y.shape,test_y.shape"
      ]
    },
    {
      "cell_type": "markdown",
      "metadata": {
        "id": "rN3jziU2nxKR"
      },
      "source": [
        "# Confusion Matrix\n",
        "In confusion Metrix, there true positive and true negative values and false positive and false negative value"
      ]
    },
    {
      "cell_type": "code",
      "execution_count": null,
      "metadata": {
        "id": "mt84e-wInxKR"
      },
      "outputs": [],
      "source": [
        "from sklearn.metrics import confusion_matrix,accuracy_score,make_scorer\n",
        "from sklearn.model_selection import cross_validate\n",
        "\n",
        "def tn(y_true, y_pred): return confusion_matrix(y_true, y_pred)[0, 0]\n",
        "def fp(y_true, y_pred): return confusion_matrix(y_true, y_pred)[0, 1]\n",
        "def fn(y_true, y_pred): return confusion_matrix(y_true, y_pred)[1, 0]\n",
        "def tp(y_true, y_pred): return confusion_matrix(y_true, y_pred)[1, 1]\n",
        "\n",
        "#cross validation purpose\n",
        "scoring = {'accuracy': make_scorer(accuracy_score),'prec': 'precision'}\n",
        "scoring = {'tp': make_scorer(tp), 'tn': make_scorer(tn),\n",
        "           'fp': make_scorer(fp), 'fn': make_scorer(fn)}\n",
        "\n",
        "def display_result(result):\n",
        "    print(\"TP: \",result['test_tp'])\n",
        "    print(\"TN: \",result['test_tn'])\n",
        "    print(\"FN: \",result['test_fn'])\n",
        "    print(\"FP: \",result['test_fp'])"
      ]
    },
    {
      "cell_type": "code",
      "execution_count": null,
      "metadata": {
        "id": "HdvECR0SnxKS",
        "outputId": "9887a866-0c27-4b81-c343-ec9c67b8f5f4"
      },
      "outputs": [
        {
          "name": "stderr",
          "output_type": "stream",
          "text": [
            "C:\\Users\\Muhammad AdnanAkhter\\Anaconda3\\lib\\site-packages\\sklearn\\linear_model\\logistic.py:433: FutureWarning: Default solver will be changed to 'lbfgs' in 0.22. Specify a solver to silence this warning.\n",
            "  FutureWarning)\n",
            "C:\\Users\\Muhammad AdnanAkhter\\Anaconda3\\lib\\site-packages\\sklearn\\linear_model\\logistic.py:433: FutureWarning: Default solver will be changed to 'lbfgs' in 0.22. Specify a solver to silence this warning.\n",
            "  FutureWarning)\n",
            "C:\\Users\\Muhammad AdnanAkhter\\Anaconda3\\lib\\site-packages\\sklearn\\linear_model\\logistic.py:433: FutureWarning: Default solver will be changed to 'lbfgs' in 0.22. Specify a solver to silence this warning.\n",
            "  FutureWarning)\n",
            "C:\\Users\\Muhammad AdnanAkhter\\Anaconda3\\lib\\site-packages\\sklearn\\linear_model\\logistic.py:433: FutureWarning: Default solver will be changed to 'lbfgs' in 0.22. Specify a solver to silence this warning.\n",
            "  FutureWarning)\n",
            "C:\\Users\\Muhammad AdnanAkhter\\Anaconda3\\lib\\site-packages\\sklearn\\linear_model\\logistic.py:433: FutureWarning: Default solver will be changed to 'lbfgs' in 0.22. Specify a solver to silence this warning.\n",
            "  FutureWarning)\n",
            "C:\\Users\\Muhammad AdnanAkhter\\Anaconda3\\lib\\site-packages\\sklearn\\linear_model\\logistic.py:433: FutureWarning: Default solver will be changed to 'lbfgs' in 0.22. Specify a solver to silence this warning.\n",
            "  FutureWarning)\n"
          ]
        },
        {
          "name": "stdout",
          "output_type": "stream",
          "text": [
            "\n",
            "Accuracy 0.7857142857142857 ROC 0.7327777777777779\n",
            "TP:  [13 12 15 13 10  8 11  9 13 12]\n",
            "TN:  [33 37 36 37 37 36 39 34 35 34]\n",
            "FN:  [ 9 10  7  9 11 13 10 12  8  9]\n",
            "FP:  [7 3 4 3 3 4 1 6 5 6]\n"
          ]
        },
        {
          "name": "stderr",
          "output_type": "stream",
          "text": [
            "C:\\Users\\Muhammad AdnanAkhter\\Anaconda3\\lib\\site-packages\\sklearn\\linear_model\\logistic.py:433: FutureWarning: Default solver will be changed to 'lbfgs' in 0.22. Specify a solver to silence this warning.\n",
            "  FutureWarning)\n",
            "C:\\Users\\Muhammad AdnanAkhter\\Anaconda3\\lib\\site-packages\\sklearn\\linear_model\\logistic.py:433: FutureWarning: Default solver will be changed to 'lbfgs' in 0.22. Specify a solver to silence this warning.\n",
            "  FutureWarning)\n",
            "C:\\Users\\Muhammad AdnanAkhter\\Anaconda3\\lib\\site-packages\\sklearn\\linear_model\\logistic.py:433: FutureWarning: Default solver will be changed to 'lbfgs' in 0.22. Specify a solver to silence this warning.\n",
            "  FutureWarning)\n",
            "C:\\Users\\Muhammad AdnanAkhter\\Anaconda3\\lib\\site-packages\\sklearn\\linear_model\\logistic.py:433: FutureWarning: Default solver will be changed to 'lbfgs' in 0.22. Specify a solver to silence this warning.\n",
            "  FutureWarning)\n",
            "C:\\Users\\Muhammad AdnanAkhter\\Anaconda3\\lib\\site-packages\\sklearn\\linear_model\\logistic.py:433: FutureWarning: Default solver will be changed to 'lbfgs' in 0.22. Specify a solver to silence this warning.\n",
            "  FutureWarning)\n"
          ]
        }
      ],
      "source": [
        "\n",
        "\n",
        "#Logistic Regression\n",
        "from sklearn.linear_model import LogisticRegression\n",
        "from sklearn.metrics import roc_auc_score\n",
        "\n",
        "acc=[]\n",
        "roc=[]\n",
        "\n",
        "clf=LogisticRegression()\n",
        "clf.fit(train_X,train_y)\n",
        "y_pred=clf.predict(test_X)\n",
        "#find accuracy\n",
        "ac=accuracy_score(test_y,y_pred)\n",
        "acc.append(ac)\n",
        "\n",
        "#find the ROC_AOC curve\n",
        "rc=roc_auc_score(test_y,y_pred)\n",
        "roc.append(rc)\n",
        "print(\"\\nAccuracy {0} ROC {1}\".format(ac,rc))\n",
        "\n",
        "#cross val score\n",
        "result=cross_validate(clf,train_X,train_y,scoring=scoring,cv=10)\n",
        "display_result(result)\n",
        "\n",
        "#display predicted values uncomment below line\n",
        "#pd.DataFrame(data={'Actual':test_y,'Predicted':y_pred}).head()"
      ]
    },
    {
      "cell_type": "markdown",
      "metadata": {
        "id": "HMTD-XSynxKS"
      },
      "source": [
        "# Algorithms\n",
        "Logistic Regression\n",
        "\n",
        "Support Vector Machine\n",
        "\n",
        "KNN\n",
        "\n",
        "Random Forest Classifier\n",
        "\n",
        "Naivye Bayes\n"
      ]
    },
    {
      "cell_type": "code",
      "execution_count": null,
      "metadata": {
        "id": "1xM0HJ9dnxKS",
        "outputId": "7f472e58-5639-4adc-e4d7-76159d767b08"
      },
      "outputs": [
        {
          "name": "stdout",
          "output_type": "stream",
          "text": [
            "\n",
            "Accuracy 0.7857142857142857 ROC 0.7370370370370369\n",
            "TP:  [11 12 15 15 10  9 14 10 14 12]\n",
            "TN:  [31 37 37 36 36 33 39 33 35 33]\n",
            "FN:  [11 10  7  7 11 12  7 11  7  9]\n",
            "FP:  [9 3 3 4 4 7 1 7 5 7]\n"
          ]
        }
      ],
      "source": [
        "#Support Vector Machine\n",
        "from sklearn.svm import SVC\n",
        "\n",
        "clf=SVC(kernel='linear')\n",
        "clf.fit(train_X,train_y)\n",
        "y_pred=clf.predict(test_X)\n",
        "#find accuracy\n",
        "ac=accuracy_score(test_y,y_pred)\n",
        "acc.append(ac)\n",
        "\n",
        "#find the ROC_AOC curve\n",
        "rc=roc_auc_score(test_y,y_pred)\n",
        "roc.append(rc)\n",
        "print(\"\\nAccuracy {0} ROC {1}\".format(ac,rc))\n",
        "\n",
        "#cross val score\n",
        "result=cross_validate(clf,train_X,train_y,scoring=scoring,cv=10)\n",
        "display_result(result)\n",
        "\n",
        "#display predicted values uncomment below line\n",
        "#pd.DataFrame(data={'Actual':test_y,'Predicted':y_pred}).head()"
      ]
    },
    {
      "cell_type": "code",
      "execution_count": null,
      "metadata": {
        "id": "09eLAxDenxKT",
        "outputId": "33d662bc-cc48-450f-9b45-a60cfae00f21"
      },
      "outputs": [
        {
          "name": "stdout",
          "output_type": "stream",
          "text": [
            "\n",
            "Accuracy 0.6688311688311688 ROC 0.6257407407407407\n",
            "TP:  [13 11 12 11 11 10 13 10 13 11]\n",
            "TN:  [29 35 30 27 31 30 34 32 31 34]\n",
            "FN:  [ 9 11 10 11 10 11  8 11  8 10]\n",
            "FP:  [11  5 10 13  9 10  6  8  9  6]\n"
          ]
        }
      ],
      "source": [
        "#KNN\n",
        "\n",
        "from sklearn.neighbors import KNeighborsClassifier\n",
        "\n",
        "clf=KNeighborsClassifier(n_neighbors=3)\n",
        "clf.fit(train_X,train_y)\n",
        "y_pred=clf.predict(test_X)\n",
        "#find accuracy\n",
        "ac=accuracy_score(test_y,y_pred)\n",
        "acc.append(ac)\n",
        "\n",
        "#find the ROC_AOC curve\n",
        "rc=roc_auc_score(test_y,y_pred)\n",
        "roc.append(rc)\n",
        "print(\"\\nAccuracy {0} ROC {1}\".format(ac,rc))\n",
        "\n",
        "#cross val score\n",
        "result=cross_validate(clf,train_X,train_y,scoring=scoring,cv=10)\n",
        "display_result(result)\n",
        "\n",
        "#display predicted values uncomment below line\n",
        "#pd.DataFrame(data={'Actual':test_y,'Predicted':y_pred}).head()"
      ]
    },
    {
      "cell_type": "code",
      "execution_count": null,
      "metadata": {
        "id": "AT0p7URenxKT",
        "outputId": "82fbfdc4-54af-447c-af4c-c7096f1137ad"
      },
      "outputs": [
        {
          "name": "stdout",
          "output_type": "stream",
          "text": [
            "\n",
            "Accuracy 0.7402597402597403 ROC 0.6764814814814815\n"
          ]
        },
        {
          "name": "stderr",
          "output_type": "stream",
          "text": [
            "C:\\Users\\Muhammad AdnanAkhter\\Anaconda3\\lib\\site-packages\\sklearn\\ensemble\\forest.py:246: FutureWarning: The default value of n_estimators will change from 10 in version 0.20 to 100 in 0.22.\n",
            "  \"10 in version 0.20 to 100 in 0.22.\", FutureWarning)\n"
          ]
        },
        {
          "name": "stdout",
          "output_type": "stream",
          "text": [
            "TP:  [12 11 12 11  9  6 12 10 13  9]\n",
            "TN:  [31 37 36 38 36 33 37 33 33 34]\n",
            "FN:  [10 11 10 11 12 15  9 11  8 12]\n",
            "FP:  [9 3 4 2 4 7 3 7 7 6]\n"
          ]
        }
      ],
      "source": [
        "#Random forest\n",
        "from sklearn.ensemble import RandomForestClassifier\n",
        "\n",
        "clf=RandomForestClassifier()\n",
        "clf.fit(train_X,train_y)\n",
        "\n",
        "y_pred=clf.predict(test_X)\n",
        "#find accuracy\n",
        "ac=accuracy_score(test_y,y_pred)\n",
        "acc.append(ac)\n",
        "\n",
        "#find the ROC_AOC curve\n",
        "rc=roc_auc_score(test_y,y_pred)\n",
        "roc.append(rc)\n",
        "print(\"\\nAccuracy {0} ROC {1}\".format(ac,rc))\n",
        "\n",
        "#cross val score\n",
        "result=cross_validate(clf,train_X,train_y,scoring=scoring,cv=10)\n",
        "display_result(result)\n",
        "\n",
        "#display predicted values uncomment below line\n",
        "#pd.DataFrame(data={'Actual':test_y,'Predicted':y_pred}).head()"
      ]
    },
    {
      "cell_type": "code",
      "execution_count": null,
      "metadata": {
        "id": "ia4ysofEnxKU",
        "outputId": "e6984e1f-d7b7-4a06-9912-d667ab8adc4a"
      },
      "outputs": [
        {
          "name": "stdout",
          "output_type": "stream",
          "text": [
            "\n",
            "Accuracy 0.7402597402597403 ROC 0.6935185185185185\n",
            "TP:  [13 15 18 17  9  9 16  8 13 15]\n",
            "TN:  [29 34 34 34 34 32 37 31 34 33]\n",
            "FN:  [ 9  7  4  5 12 12  5 13  8  6]\n",
            "FP:  [11  6  6  6  6  8  3  9  6  7]\n"
          ]
        }
      ],
      "source": [
        "#Naive Bayes Theorem\n",
        "#import library\n",
        "from sklearn.naive_bayes import GaussianNB\n",
        "\n",
        "clf=GaussianNB()\n",
        "clf.fit(train_X,train_y)\n",
        "y_pred=clf.predict(test_X)\n",
        "#find accuracy\n",
        "ac=accuracy_score(test_y,y_pred)\n",
        "acc.append(ac)\n",
        "\n",
        "#find the ROC_AOC curve\n",
        "rc=roc_auc_score(test_y,y_pred)\n",
        "roc.append(rc)\n",
        "print(\"\\nAccuracy {0} ROC {1}\".format(ac,rc))\n",
        "\n",
        "#cross val score\n",
        "result=cross_validate(clf,train_X,train_y,scoring=scoring,cv=10)\n",
        "display_result(result)\n",
        "\n",
        "#display predicted values uncomment below line\n",
        "#pd.DataFrame(data={'Actual':test_y,'Predicted':y_pred}).head()"
      ]
    },
    {
      "cell_type": "code",
      "execution_count": null,
      "metadata": {
        "id": "L4-L6-0knxKU",
        "outputId": "32b6122d-7a64-4fef-fe0f-c100f1f4c891"
      },
      "outputs": [
        {
          "data": {
            "image/png": "[encoded data removed]",
            "text/plain": [
              "<Figure size 648x288 with 1 Axes>"
            ]
          },
          "metadata": {},
          "output_type": "display_data"
        },
        {
          "data": {
            "image/png": "[encoded data removed]",
            "text/plain": [
              "<Figure size 648x288 with 1 Axes>"
            ]
          },
          "metadata": {},
          "output_type": "display_data"
        }
      ],
      "source": [
        "#lets plot the bar graph\n",
        "\n",
        "ax=plt.figure(figsize=(9,4))\n",
        "plt.bar(['Logistic Regression','SVM','KNN','Random Forest','Naivye Bayes'],acc,label='Accuracy')\n",
        "plt.ylabel('Accuracy Score')\n",
        "plt.xlabel('Algortihms')\n",
        "plt.show()\n",
        "\n",
        "ax=plt.figure(figsize=(9,4))\n",
        "plt.bar(['Logistic Regression','SVM','KNN','Random Forest','Naivye Bayes'],roc,label='ROC AUC')\n",
        "plt.ylabel('ROC AUC')\n",
        "plt.xlabel('Algortihms')\n",
        "plt.show()"
      ]
    },
    {
      "cell_type": "code",
      "execution_count": null,
      "metadata": {
        "id": "SlPehU08nxKV"
      },
      "outputs": [],
      "source": [
        "#print(y_test.value_counts())\n",
        "#MEAN OF THE TESTING DISTRIBUTION\n",
        "#print(1- y_test.mean())"
      ]
    },
    {
      "cell_type": "code",
      "execution_count": null,
      "metadata": {
        "id": "nL9vRyXunxKV"
      },
      "outputs": [],
      "source": []
    }
  ],
  "metadata": {
    "kernelspec": {
      "display_name": "Python 3",
      "language": "python",
      "name": "python3"
    },
    "language_info": {
      "codemirror_mode": {
        "name": "ipython",
        "version": 3
      },
      "file_extension": ".py",
      "mimetype": "text/x-python",
      "name": "python",
      "nbconvert_exporter": "python",
      "pygments_lexer": "ipython3",
      "version": "3.7.1"
    },
    "colab": {
      "provenance": []
    }
  },
  "nbformat": 4,
  "nbformat_minor": 0
}